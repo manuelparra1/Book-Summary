{
 "cells": [
  {
   "cell_type": "code",
   "execution_count": 1,
   "id": "f7247a32",
   "metadata": {},
   "outputs": [],
   "source": [
    "import re\n",
    "import os"
   ]
  },
  {
   "cell_type": "code",
   "execution_count": 12,
   "id": "3c71ae09",
   "metadata": {},
   "outputs": [],
   "source": [
    "def clean_text(file_path):\n",
    "    with open(file_path, 'r', encoding='utf-8') as file:\n",
    "        text = file.read()\n",
    "\n",
    "    # Remove header text with page counts\n",
    "    text = re.sub(r'\\S[^\\d]+\\s*●\\s*\\d+', '', text)\n",
    "\n",
    "    # Remove footers with original file name and date\n",
    "    text = re.sub(r'Duhi_9781400069286_2p_all_r1.j.indd \\d+ 10/17/11 12:01 PM', '', text)\n",
    "\n",
    "    # Remove footers with original file name and date\n",
    "    text = re.sub(r'Duhi_9781400069286_2p_all_r1.j.indd \\d+ 10/17/11 12:0', '', text)\n",
    "    \n",
    "    \n",
    "    \n",
    "    \n",
    "    # Remove hyphenated words\n",
    "    text = text.replace('- ', '')\n",
    "\n",
    "    # Save the cleaned text back to the file\n",
    "    with open(file_path, 'w', encoding='utf-8') as file:\n",
    "        file.write(text)"
   ]
  },
  {
   "cell_type": "code",
   "execution_count": 13,
   "id": "d9daea0e",
   "metadata": {},
   "outputs": [],
   "source": [
    "def clean_all_files(directory):\n",
    "    for filename in os.listdir(directory):\n",
    "        if filename.endswith(\".txt\"):\n",
    "            file_path = os.path.join(directory, filename)\n",
    "            clean_text(file_path)"
   ]
  },
  {
   "cell_type": "code",
   "execution_count": 14,
   "id": "4d01d39c",
   "metadata": {},
   "outputs": [],
   "source": [
    "# Specify the directory containing your text files\n",
    "directory_path = os.getcwd()\n",
    "\n",
    "# Clean all files in the specified directory\n",
    "clean_all_files(directory_path)"
   ]
  },
  {
   "cell_type": "code",
   "execution_count": null,
   "id": "0b8cdbfc",
   "metadata": {},
   "outputs": [],
   "source": []
  }
 ],
 "metadata": {
  "kernelspec": {
   "display_name": "Python 3 (ipykernel)",
   "language": "python",
   "name": "python3"
  },
  "language_info": {
   "codemirror_mode": {
    "name": "ipython",
    "version": 3
   },
   "file_extension": ".py",
   "mimetype": "text/x-python",
   "name": "python",
   "nbconvert_exporter": "python",
   "pygments_lexer": "ipython3",
   "version": "3.10.11"
  }
 },
 "nbformat": 4,
 "nbformat_minor": 5
}
